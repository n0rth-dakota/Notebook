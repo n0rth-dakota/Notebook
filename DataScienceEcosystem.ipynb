{
 "cells": [
  {
   "cell_type": "markdown",
   "id": "ac9945bc-746b-4f4b-81ac-81a146ee167f",
   "metadata": {},
   "source": [
    "# Data Science Tools and Ecosystem"
   ]
  },
  {
   "cell_type": "markdown",
   "id": "09b76514-3e33-4edf-80be-d55ca9746df9",
   "metadata": {},
   "source": [
    "In this notebook, Data Science Tools are summarized."
   ]
  },
  {
   "cell_type": "markdown",
   "id": "a97518cc-0377-4150-bcc3-f7a0d47ca155",
   "metadata": {},
   "source": [
    "Language used for data science is\n",
    "1. R\n",
    "2. Python\n",
    "3. SQL"
   ]
  },
  {
   "cell_type": "markdown",
   "id": "d061708f-83b1-447d-985d-b21eddbfab08",
   "metadata": {},
   "source": [
    "Some of the commonly used libraries for data science includes\n",
    "1. ggplot\n",
    "2. matplotlib\n",
    "3. stringr"
   ]
  },
  {
   "cell_type": "markdown",
   "id": "3432058c-b5ae-4c7c-9270-c728acaa550a",
   "metadata": {},
   "source": [
    "| Data Science Tools |\n",
    "| -------------|\n",
    "| MongoDB |\n",
    "| Apache SparkSQL |\n",
    "| TensorFlow |"
   ]
  },
  {
   "cell_type": "markdown",
   "id": "5776c915-d75e-4bd3-a9e6-e02dcbc66b8a",
   "metadata": {},
   "source": [
    "### Below are a few examples of Evaluating Arythmatic expressions in Python"
   ]
  },
  {
   "cell_type": "code",
   "execution_count": 31,
   "id": "ad70207d-c286-4509-81bb-be82e4e31052",
   "metadata": {},
   "outputs": [
    {
     "data": {
      "text/plain": [
       "17"
      ]
     },
     "execution_count": 31,
     "metadata": {},
     "output_type": "execute_result"
    }
   ],
   "source": [
    "#This a simple arithmetic expression to mutiply then add integers\n",
    "(3*4)+5"
   ]
  },
  {
   "cell_type": "code",
   "execution_count": 29,
   "id": "94124253-0e47-4771-b073-3f92abdd7f6a",
   "metadata": {},
   "outputs": [
    {
     "data": {
      "text/plain": [
       "3.3333333333333335"
      ]
     },
     "execution_count": 29,
     "metadata": {},
     "output_type": "execute_result"
    }
   ],
   "source": [
    "#this will convert 200 miniutes into hours by dividing by 60\n",
    "200/60"
   ]
  },
  {
   "cell_type": "markdown",
   "id": "23bfaddb-fda6-4f64-a4fb-defd8e5ebc88",
   "metadata": {},
   "source": [
    "# Author: \n",
    "Addison"
   ]
  },
  {
   "cell_type": "code",
   "execution_count": null,
   "id": "ae8e1215-dbef-4a02-af21-2318acb3bb7b",
   "metadata": {},
   "outputs": [],
   "source": []
  }
 ],
 "metadata": {
  "kernelspec": {
   "display_name": "Python 3 (ipykernel)",
   "language": "python",
   "name": "python3"
  },
  "language_info": {
   "codemirror_mode": {
    "name": "ipython",
    "version": 3
   },
   "file_extension": ".py",
   "mimetype": "text/x-python",
   "name": "python",
   "nbconvert_exporter": "python",
   "pygments_lexer": "ipython3",
   "version": "3.12.7"
  }
 },
 "nbformat": 4,
 "nbformat_minor": 5
}
